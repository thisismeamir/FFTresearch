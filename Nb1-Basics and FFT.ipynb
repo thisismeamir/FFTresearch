{
 "cells": [
  {
   "cell_type": "markdown",
   "id": "838d80a4",
   "metadata": {},
   "source": [
    "# Fourier Transformation | NB1 Library info\n",
    "## Abstract\n",
    "In this notebook I am trying to show how my library that contains three python files actually work. For more detailed theoretical aspects of FFT and Fourier Transform in general check out the [Notion](https://thisismeamir.notion.site/Fast-Fourier-Transform-8225af529e3643168e811751ff88c8cf) Page "
   ]
  },
  {
   "cell_type": "code",
   "execution_count": 9,
   "id": "d534b105",
   "metadata": {},
   "outputs": [],
   "source": [
    "import matplotlib as mp\n",
    "import matplotlib.pyplot as plt"
   ]
  },
  {
   "cell_type": "markdown",
   "id": "170f6f4c",
   "metadata": {},
   "source": [
    "## A class to define Mathematical Functions and Numeric Values\n",
    "The first file in Library which is called `Functions.py` contains only one class that helps us define functions both numerically (using a CSV file or any coordiante dictionay) and Symbolically (For now only numpy but later on we will work on using sympy too!) Let's see the whole source code below and then have some examples to demonstrate how the class works. "
   ]
  },
  {
   "cell_type": "code",
   "execution_count": 10,
   "id": "7753f42a",
   "metadata": {},
   "outputs": [],
   "source": [
    "import numpy as np\n",
    "import scipy as sc\n",
    "import pandas as pd\n",
    "\n",
    "'''\n",
    "We first define a class of mathematical functions.\n",
    "Symbolic functions are not yet implemented...\n",
    "'''\n",
    "\n",
    "class func2D():\n",
    "    '''\n",
    "    Class of mathematical Functions.\n",
    "    '''\n",
    "    def __init__(self, Numpy = \"\", Numeric = \"\", Symbols = \"\"):\n",
    "        '''\n",
    "        This method is the initial function for making a 2D mathematical function.\n",
    "        First define Symbols in your function and then,\n",
    "        you can use self.Numpy('Numpy expression: np.cos(x)') \n",
    "        or          self.Numeric ({\"x\": [], \"y\": []})\n",
    "        to define the function in terms of coordinate numbers or symbolic term\n",
    "        '''\n",
    "        \n",
    "        if Numpy != \"\":\n",
    "            self.Numpy(Numpy,Symbols)\n",
    "        elif Numeric != \"\":\n",
    "            self.Numeric(Numeric)\n",
    "        else:\n",
    "            pass\n",
    "\n",
    "    # ---------- Defining Methods ----------\n",
    "    def Numpy(self, Expression, Symbols):\n",
    "        '''\n",
    "        This method gets a numpy function as a string and turns it to actual numpy function.\n",
    "        '''\n",
    "\n",
    "        Define = \"lambda\" + \" \" + Symbols + \" :\"\n",
    "        exec('self.NumpyTerm = {0} {1}'.format(Define, Expression))\n",
    "    \n",
    "    def Numeric(self, Numeric):\n",
    "        '''\n",
    "        This method is resposible for recieving a set of coordinates and the coresponding value of the function.\n",
    "        {'x': [1,3,4,5,6,7,8,15,17,18,100,230,...],\n",
    "         'y': [13,15,1,6,4,52,37,37,563,6,745,...]}\n",
    "         the lengths of 'x' and  'y' lists have to be equal. \n",
    "        '''\n",
    "        assert len(Numeric['x']) == len(Numeric['y']), 'The two given lists are not equal'\n",
    "        \n",
    "        self.NumericTerm = Numeric\n",
    "    \n",
    "    # ---------- Turning Numeric ----------\n",
    "    def TurnNumpyNumeric(self, Sample, Symbols=\"\", Signal = False):\n",
    "        '''\n",
    "        Turns Numpy Expressions into Numeric functions.\n",
    "        '''\n",
    "        self.SampleLength = len(Sample)\n",
    "        Sample = Sample\n",
    "        y =[]\n",
    "        if Symbols == \"\":\n",
    "            for x in Sample:\n",
    "                Eval = self.NumpyTerm(x)\n",
    "                y.append(Eval)\n",
    "        else:\n",
    "            for x in Sample:\n",
    "                # Eval = 0\n",
    "                Eval = eval(\"self.NumpyTerm({0},{1})\".format(x,Symbols))\n",
    "                y.append(Eval)\n",
    "        if Signal:\n",
    "            return {'x': Sample, 'y': np.array(y)}\n",
    "        else:\n",
    "            self.NumericTerm = {'x': Sample, 'y': np.array(y)}\n",
    "\n",
    "\n",
    "    def ImportFromCSV(self,path, columns =['','']):\n",
    "        '''Importing Numeric Values from a CSV file.'''\n",
    "        df = pd.read_csv(path, skipinitialspace=True)\n",
    "        x = np.transpose(df[columns[0]].to_numpy())\n",
    "        y = np.transpose(df[columns[1]].to_numpy())\n",
    "        self.NumericTerm = {'x': x, 'y': y}\n",
    "    \n",
    "    # ---------- Static Methods ----------\n",
    "    @staticmethod\n",
    "    def LinearSampleMaker(Range, SampleNumber):\n",
    "        '''\n",
    "        Given a list for range and a SampleNumber this method generates a sample\n",
    "        '''\n",
    "        assert len(Range)==2, 'you should give a list of two numbers for Range of your Sample'\n",
    "        assert SampleNumber//1 == SampleNumber,\"SampleNumber should be an integer\"\n",
    "        Sample = np.linspace(Range[0], Range[1], SampleNumber)\n",
    "        return Sample\n",
    "\n",
    "    # ---------- Status ----------    \n",
    "    def Ready(self,Stateof):\n",
    "        '''\n",
    "        Finding if an instance has symbolic,numeric,numpy expressions\n",
    "        '''\n",
    "        assert Stateof in [\"Num\", \"Numpy\"],'The argument should be \"Num\", \"Numpy\"'\n",
    "        PossibleTerms = [\"Num\",\"Numpy\"]\n",
    "        terms= {\"Num\": self.NumericTerm, \"Numpy\": self.NumpyTerm}\n",
    "        for term in PossibleTerms:\n",
    "            if term == Stateof:\n",
    "                if terms[term]!= \"\":\n",
    "                    return True\n",
    "                else:\n",
    "                    return False\n",
    "            else:\n",
    "                return \"Not Found.\"\n",
    "        \n"
   ]
  },
  {
   "cell_type": "markdown",
   "id": "ce68f559",
   "metadata": {},
   "source": [
    "### Example 1 | Defining some simple functions using Numpy\n",
    "In this example we will define a simple function using the source code above. a sine function of x and two constants."
   ]
  },
  {
   "cell_type": "code",
   "execution_count": 2,
   "id": "f76ca474",
   "metadata": {},
   "outputs": [
    {
     "name": "stdout",
     "output_type": "stream",
     "text": [
      "3.0\n"
     ]
    }
   ],
   "source": [
    "# Example 1.1 | Sine function\n",
    "sin = func2D(Numpy= 'a*np.sin(b*x)', Symbols='x,a,b') # Defining\n",
    "y0  = sin.NumpyTerm(np.pi/2,3,1) # Since Numpy Term is a python function you can set inputs and \n",
    "                                 # Numerical outputs based on Symbols you defined \n",
    "print(y0)"
   ]
  },
  {
   "cell_type": "code",
   "execution_count": 3,
   "id": "a644d17b",
   "metadata": {},
   "outputs": [
    {
     "ename": "NameError",
     "evalue": "name 'plt' is not defined",
     "output_type": "error",
     "traceback": [
      "\u001b[1;31m---------------------------------------------------------------------------\u001b[0m",
      "\u001b[1;31mNameError\u001b[0m                                 Traceback (most recent call last)",
      "\u001b[1;32m~\\AppData\\Local\\Temp/ipykernel_7736/910973766.py\u001b[0m in \u001b[0;36m<module>\u001b[1;34m\u001b[0m\n\u001b[0;32m      8\u001b[0m \u001b[1;33m\u001b[0m\u001b[0m\n\u001b[0;32m      9\u001b[0m \u001b[1;31m# Let's plot and see\u001b[0m\u001b[1;33m\u001b[0m\u001b[1;33m\u001b[0m\u001b[0m\n\u001b[1;32m---> 10\u001b[1;33m \u001b[0mfig\u001b[0m\u001b[1;33m,\u001b[0m \u001b[0max\u001b[0m \u001b[1;33m=\u001b[0m \u001b[0mplt\u001b[0m\u001b[1;33m.\u001b[0m\u001b[0msubplots\u001b[0m\u001b[1;33m(\u001b[0m\u001b[0mfigsize\u001b[0m\u001b[1;33m=\u001b[0m\u001b[1;33m(\u001b[0m\u001b[1;36m12\u001b[0m\u001b[1;33m,\u001b[0m\u001b[1;36m3\u001b[0m\u001b[1;33m)\u001b[0m\u001b[1;33m)\u001b[0m\u001b[1;33m\u001b[0m\u001b[1;33m\u001b[0m\u001b[0m\n\u001b[0m\u001b[0;32m     11\u001b[0m \u001b[0max\u001b[0m\u001b[1;33m.\u001b[0m\u001b[0mplot\u001b[0m\u001b[1;33m(\u001b[0m\u001b[0mnum\u001b[0m\u001b[1;33m.\u001b[0m\u001b[0mNumericTerm\u001b[0m\u001b[1;33m[\u001b[0m\u001b[1;34m'x'\u001b[0m\u001b[1;33m]\u001b[0m\u001b[1;33m,\u001b[0m \u001b[0mnum\u001b[0m\u001b[1;33m.\u001b[0m\u001b[0mNumericTerm\u001b[0m\u001b[1;33m[\u001b[0m\u001b[1;34m'y'\u001b[0m\u001b[1;33m]\u001b[0m\u001b[1;33m)\u001b[0m\u001b[1;33m\u001b[0m\u001b[1;33m\u001b[0m\u001b[0m\n",
      "\u001b[1;31mNameError\u001b[0m: name 'plt' is not defined"
     ]
    }
   ],
   "source": [
    "# Example 1.2 | A Numeric Function\n",
    "Coordinates = {'x': [\n",
    "    1,2,3,4,5,6,7,8,9,10,11,12,13,14,15,16,17,18,19,20,21,22,23,24,25\n",
    "], 'y': [\n",
    "    2,3,4,5,1,1,6,3,7,8,1,3,5,6,4,2,4,7,5,8,3,4,6,7,3\n",
    "]}\n",
    "num = func2D(Numeric = Coordinates) # Defining\n",
    "\n",
    "# Let's plot and see\n",
    "fig, ax = plt.subplots(figsize=(12,3))\n",
    "ax.plot(num.NumericTerm['x'], num.NumericTerm['y'])"
   ]
  },
  {
   "cell_type": "code",
   "execution_count": null,
   "id": "d9a7c498",
   "metadata": {},
   "outputs": [],
   "source": [
    "# Example 1.3 | Importing CSV file\n",
    "csv = func2D()\n",
    "csv.ImportFromCSV('./data.csv',['x','y'])\n",
    "\n",
    "fig, ax = plt.subplots(figsize=(12,3))\n",
    "ax.plot(csv.NumericTerm['x'], csv.NumericTerm['y']) # Which is the ugly image below XD \n",
    "# since it's not one to one corresponding."
   ]
  },
  {
   "cell_type": "markdown",
   "id": "f233eb00",
   "metadata": {},
   "source": [
    "### Example 2 | Turning Numpy Terms Numerically\n",
    "In this Example I demonnstrated how can you turn what you defined using numpy, to a numerical coordiantes using Sample for x, which can be defined using the static method `LinearSampleMaker()`. using the sine function we already defined."
   ]
  },
  {
   "cell_type": "code",
   "execution_count": null,
   "id": "27e926cc",
   "metadata": {},
   "outputs": [],
   "source": [
    "# Example 2.1 | sine function numerical\n",
    "xSample = func2D.LinearSampleMaker([-np.pi,np.pi], 44100) # We are making a sample of 44100 points \n",
    "                                                          # between -pi to pi.\n",
    "sin.TurnNumpyNumeric(xSample, Symbols=\"5,2\")\n",
    "\n",
    "fig, ax = plt.subplots(figsize=(40,15))\n",
    "plt.grid(True)\n",
    "ax.plot(sin.NumericTerm['x'], sin.NumericTerm['y'], marker='o', ms=0.2, linestyle='None', c='darkblue')\n",
    "ax.plot(sin.NumericTerm['x'], sin.NumericTerm['y']) # Which is the ugly image below XD \n",
    "# since it's not one to one corresponding."
   ]
  },
  {
   "cell_type": "code",
   "execution_count": null,
   "id": "6e84e56f",
   "metadata": {},
   "outputs": [],
   "source": [
    "# Example 2.2 | More complicated function\n",
    "func = func2D(Numpy='np.sin(a*x**2)+b*np.cos(x**3)+c* np.cos(x*(-2))', Symbols='x,a,b,c')\n",
    "xSample = func2D.LinearSampleMaker([0,2*np.pi], 44100) # We are making a sample of 44100 points \n",
    "                                                          # between -pi to pi.\n",
    "func.TurnNumpyNumeric(xSample, Symbols=\"5,2,3\")\n",
    "fig, ax = plt.subplots(figsize=(40,20))\n",
    "\n",
    "plt.grid(True)\n",
    "ax.plot(func.NumericTerm['x'], func.NumericTerm['y'], marker='o', ms=0.2, linestyle='None', c='darkblue')\n",
    "ax.plot(func.NumericTerm['x'], func.NumericTerm['y']) # Which is the ugly image below XD \n",
    "# since it's not one to one corresponding."
   ]
  },
  {
   "cell_type": "markdown",
   "id": "7c54fd50",
   "metadata": {},
   "source": [
    "# A Class to define Signals\n",
    "The Second File Contains one class to define signals which is a child of the first class we explored above.\n"
   ]
  },
  {
   "cell_type": "code",
   "execution_count": null,
   "id": "71ef1e1f",
   "metadata": {},
   "outputs": [],
   "source": [
    "from msilib.schema import File\n",
    "import numpy as np\n",
    "import scipy as sc\n",
    "from scipy.io.wavfile import write \n",
    "\n",
    "class Signal(func2D):\n",
    "    def __init__(self, SampleRate, Numpy=\"\", Numeric=\"\", Symbols=\"\", ):\n",
    "        '''\n",
    "        Initial Signal Making.\n",
    "        '''\n",
    "        super().__init__(Numpy, Numeric, Symbols)\n",
    "        self.SampleRate = SampleRate\n",
    "\n",
    "\n",
    "    # ---------- Making a Sample from a Signal ----------\n",
    "    def SampleMaker(self, Range: list, Constants='', Length = 1):\n",
    "        '''\n",
    "        Making a Sample from a given numpy signal\n",
    "        '''\n",
    "        assert len(Range) == 2, \"Range should be in the form  [a,b].\"\n",
    "        self.SampleDuration = Length\n",
    "        SampleNumber = int(self.SampleDuration * self.SampleRate)\n",
    "        x = func.LinearSampleMaker(Range, SampleNumber)\n",
    "        self.SignalSample = self.TurnNumpyNumeric(x, Constants, Signal = True)\n",
    "        self.SignalSampleVar = self.SignalSample['x']\n",
    "        self.SignalSample = self.SignalSample['y']\n",
    "        self.Sampled = True\n",
    "        \n",
    "    def Normalizer(self,Amplitude = 1):\n",
    "        '''\n",
    "        Generalized Normalizer\n",
    "        '''\n",
    "        self.SignalSample = np.int16((self.SignalSample/self.SignalSample.max())*Amplitude)\n",
    "    \n",
    "    def NormalizerInt16(self):\n",
    "        '''\n",
    "        Normalizing the sample for audio making\n",
    "        '''\n",
    "        self.SignalSample = np.int16((self.SignalSample/self.SignalSample.max())*32767)\n",
    "\n",
    "    # ---------- Audio ----------\n",
    "    def NumericAudioCreator (self, Duration, FileName=\"wave\"):\n",
    "        '''\n",
    "        Turning a Signal into audio.\n",
    "        '''\n",
    "        Repeat   = Duration//self.SampleDuration\n",
    "        wave = np.array([])\n",
    "        i = 0\n",
    "        while i < Repeat:\n",
    "            wave = np.concatenate((wave, self.SignalSample), axis=None)\n",
    "            i +=1\n",
    "        write(f\"{FileName}.wav\", self.SampleRate, wave)\n",
    "\n",
    "    # ---------- Audio from Numpy ----------\n",
    "    def NumpyAudioCreator (self, Duration, Range, Constants, Length, FileName=\"wave\"):\n",
    "        '''\n",
    "        Turning a numpy term into audio.\n",
    "        '''\n",
    "        assert self.Ready('Numpy')\n",
    "        self.SampleMaker(Range,Constants,Length)\n",
    "        self.NumericAudioCreator(Duration, FileName)"
   ]
  },
  {
   "cell_type": "markdown",
   "id": "fc218472",
   "metadata": {},
   "source": [
    "### Example 1 | Define some simple signals\n",
    "The major thing about signal class is that You have to define a SampleRate which is the number of times we are taking samples from the data source (device or a mathematical function.) in one second."
   ]
  },
  {
   "cell_type": "code",
   "execution_count": 4,
   "id": "db7b0620",
   "metadata": {},
   "outputs": [
    {
     "ename": "NameError",
     "evalue": "name 'Signal' is not defined",
     "output_type": "error",
     "traceback": [
      "\u001b[1;31m---------------------------------------------------------------------------\u001b[0m",
      "\u001b[1;31mNameError\u001b[0m                                 Traceback (most recent call last)",
      "\u001b[1;32m~\\AppData\\Local\\Temp/ipykernel_7736/3566114648.py\u001b[0m in \u001b[0;36m<module>\u001b[1;34m\u001b[0m\n\u001b[0;32m      1\u001b[0m \u001b[1;31m# Example 1.1 | sine signal\u001b[0m\u001b[1;33m\u001b[0m\u001b[1;33m\u001b[0m\u001b[0m\n\u001b[1;32m----> 2\u001b[1;33m \u001b[0msignal1\u001b[0m \u001b[1;33m=\u001b[0m \u001b[0mSignal\u001b[0m\u001b[1;33m(\u001b[0m\u001b[1;36m44100\u001b[0m\u001b[1;33m,\u001b[0m \u001b[0mNumpy\u001b[0m\u001b[1;33m=\u001b[0m\u001b[1;34m'np.sin(x)'\u001b[0m\u001b[1;33m,\u001b[0m \u001b[0mSymbols\u001b[0m\u001b[1;33m=\u001b[0m\u001b[1;34m'x'\u001b[0m\u001b[1;33m)\u001b[0m\u001b[1;33m\u001b[0m\u001b[1;33m\u001b[0m\u001b[0m\n\u001b[0m\u001b[0;32m      3\u001b[0m \u001b[1;31m#Example 1.2 | sine + cosine with different phase signal\u001b[0m\u001b[1;33m\u001b[0m\u001b[1;33m\u001b[0m\u001b[0m\n\u001b[0;32m      4\u001b[0m \u001b[0msignal2\u001b[0m \u001b[1;33m=\u001b[0m \u001b[0mSignal\u001b[0m\u001b[1;33m(\u001b[0m\u001b[1;36m44100\u001b[0m\u001b[1;33m,\u001b[0m \u001b[0mNumpy\u001b[0m\u001b[1;33m=\u001b[0m\u001b[1;34m'np.sin(a*x)+np.cos(b*x)'\u001b[0m\u001b[1;33m,\u001b[0m \u001b[0mSymbols\u001b[0m\u001b[1;33m=\u001b[0m\u001b[1;34m'x,a,b'\u001b[0m\u001b[1;33m)\u001b[0m\u001b[1;33m\u001b[0m\u001b[1;33m\u001b[0m\u001b[0m\n",
      "\u001b[1;31mNameError\u001b[0m: name 'Signal' is not defined"
     ]
    }
   ],
   "source": [
    "# Example 1.1 | sine signal\n",
    "signal1 = Signal(44100, Numpy='np.sin(x)', Symbols='x')\n",
    "#Example 1.2 | sine + cosine with different phase signal\n",
    "signal2 = Signal(44100, Numpy='np.sin(a*x)+np.cos(b*x)', Symbols='x,a,b')\n"
   ]
  },
  {
   "cell_type": "markdown",
   "id": "89d32333",
   "metadata": {},
   "source": [
    "### Example 2 | Making a Sample out of the signal definition\n",
    "Now that you defined a signal you can take a sample from a range you like with given constants"
   ]
  },
  {
   "cell_type": "code",
   "execution_count": 5,
   "id": "112c577f",
   "metadata": {},
   "outputs": [
    {
     "ename": "NameError",
     "evalue": "name 'signal1' is not defined",
     "output_type": "error",
     "traceback": [
      "\u001b[1;31m---------------------------------------------------------------------------\u001b[0m",
      "\u001b[1;31mNameError\u001b[0m                                 Traceback (most recent call last)",
      "\u001b[1;32m~\\AppData\\Local\\Temp/ipykernel_7736/2721109696.py\u001b[0m in \u001b[0;36m<module>\u001b[1;34m\u001b[0m\n\u001b[0;32m      1\u001b[0m \u001b[1;31m# Example 1.1 | sine signal\u001b[0m\u001b[1;33m\u001b[0m\u001b[1;33m\u001b[0m\u001b[0m\n\u001b[1;32m----> 2\u001b[1;33m \u001b[0msignal1\u001b[0m\u001b[1;33m.\u001b[0m\u001b[0mSampleMaker\u001b[0m\u001b[1;33m(\u001b[0m\u001b[1;33m[\u001b[0m\u001b[1;36m0\u001b[0m\u001b[1;33m,\u001b[0m\u001b[1;36m2\u001b[0m\u001b[1;33m*\u001b[0m\u001b[0mnp\u001b[0m\u001b[1;33m.\u001b[0m\u001b[0mpi\u001b[0m\u001b[1;33m]\u001b[0m\u001b[1;33m,\u001b[0m \u001b[1;34m''\u001b[0m\u001b[1;33m,\u001b[0m \u001b[1;36m1\u001b[0m\u001b[1;33m)\u001b[0m \u001b[1;31m# from 0 to 2pi, length 1 second.\u001b[0m\u001b[1;33m\u001b[0m\u001b[1;33m\u001b[0m\u001b[0m\n\u001b[0m\u001b[0;32m      3\u001b[0m \u001b[1;31m#Example 1.2 | sine + cosine with different phase signal\u001b[0m\u001b[1;33m\u001b[0m\u001b[1;33m\u001b[0m\u001b[0m\n\u001b[0;32m      4\u001b[0m \u001b[0msignal2\u001b[0m\u001b[1;33m.\u001b[0m\u001b[0mSampleMaker\u001b[0m\u001b[1;33m(\u001b[0m\u001b[1;33m[\u001b[0m\u001b[1;36m0\u001b[0m\u001b[1;33m,\u001b[0m\u001b[1;36m2\u001b[0m\u001b[1;33m*\u001b[0m\u001b[0mnp\u001b[0m\u001b[1;33m.\u001b[0m\u001b[0mpi\u001b[0m\u001b[1;33m]\u001b[0m\u001b[1;33m,\u001b[0m \u001b[1;34m'2,3'\u001b[0m\u001b[1;33m,\u001b[0m \u001b[1;36m0.1\u001b[0m\u001b[1;33m)\u001b[0m\u001b[1;31m# from 0 to 2pi with a=2,b=3 and for length 1 second.\u001b[0m\u001b[1;33m\u001b[0m\u001b[1;33m\u001b[0m\u001b[0m\n",
      "\u001b[1;31mNameError\u001b[0m: name 'signal1' is not defined"
     ]
    }
   ],
   "source": [
    "# Example 1.1 | sine signal\n",
    "signal1.SampleMaker([0,2*np.pi], '', 1) # from 0 to 2pi, length 1 second.\n",
    "#Example 1.2 | sine + cosine with different phase signal\n",
    "signal2.SampleMaker([0,2*np.pi], '2,3', 0.1)# from 0 to 2pi with a=2,b=3 and for length 1 second."
   ]
  },
  {
   "cell_type": "code",
   "execution_count": 6,
   "id": "c1af6807",
   "metadata": {},
   "outputs": [
    {
     "ename": "NameError",
     "evalue": "name 'signal1' is not defined",
     "output_type": "error",
     "traceback": [
      "\u001b[1;31m---------------------------------------------------------------------------\u001b[0m",
      "\u001b[1;31mNameError\u001b[0m                                 Traceback (most recent call last)",
      "\u001b[1;32m~\\AppData\\Local\\Temp/ipykernel_7736/1958498461.py\u001b[0m in \u001b[0;36m<module>\u001b[1;34m\u001b[0m\n\u001b[1;32m----> 1\u001b[1;33m \u001b[0mprint\u001b[0m\u001b[1;33m(\u001b[0m\u001b[0msignal1\u001b[0m\u001b[1;33m.\u001b[0m\u001b[0mSampled\u001b[0m\u001b[1;33m,\u001b[0m \u001b[0msignal2\u001b[0m\u001b[1;33m.\u001b[0m\u001b[0mSampled\u001b[0m\u001b[1;33m)\u001b[0m \u001b[1;31m# Check if they are sampled alright.\u001b[0m\u001b[1;33m\u001b[0m\u001b[1;33m\u001b[0m\u001b[0m\n\u001b[0m",
      "\u001b[1;31mNameError\u001b[0m: name 'signal1' is not defined"
     ]
    }
   ],
   "source": [
    "print(signal1.Sampled, signal2.Sampled) # Check if they are sampled alright."
   ]
  },
  {
   "cell_type": "code",
   "execution_count": 7,
   "id": "534a0a6e",
   "metadata": {},
   "outputs": [
    {
     "ename": "NameError",
     "evalue": "name 'plt' is not defined",
     "output_type": "error",
     "traceback": [
      "\u001b[1;31m---------------------------------------------------------------------------\u001b[0m",
      "\u001b[1;31mNameError\u001b[0m                                 Traceback (most recent call last)",
      "\u001b[1;32m~\\AppData\\Local\\Temp/ipykernel_7736/876874555.py\u001b[0m in \u001b[0;36m<module>\u001b[1;34m\u001b[0m\n\u001b[1;32m----> 1\u001b[1;33m \u001b[0mfig\u001b[0m\u001b[1;33m,\u001b[0m \u001b[0max\u001b[0m \u001b[1;33m=\u001b[0m \u001b[0mplt\u001b[0m\u001b[1;33m.\u001b[0m\u001b[0msubplots\u001b[0m\u001b[1;33m(\u001b[0m\u001b[0mfigsize\u001b[0m\u001b[1;33m=\u001b[0m\u001b[1;33m(\u001b[0m\u001b[1;36m40\u001b[0m\u001b[1;33m,\u001b[0m\u001b[1;36m20\u001b[0m\u001b[1;33m)\u001b[0m\u001b[1;33m)\u001b[0m\u001b[1;33m\u001b[0m\u001b[1;33m\u001b[0m\u001b[0m\n\u001b[0m\u001b[0;32m      2\u001b[0m \u001b[1;33m\u001b[0m\u001b[0m\n\u001b[0;32m      3\u001b[0m \u001b[0mplt\u001b[0m\u001b[1;33m.\u001b[0m\u001b[0mgrid\u001b[0m\u001b[1;33m(\u001b[0m\u001b[1;32mTrue\u001b[0m\u001b[1;33m)\u001b[0m\u001b[1;33m\u001b[0m\u001b[1;33m\u001b[0m\u001b[0m\n\u001b[0;32m      4\u001b[0m \u001b[0max\u001b[0m\u001b[1;33m.\u001b[0m\u001b[0mplot\u001b[0m\u001b[1;33m(\u001b[0m\u001b[0msignal1\u001b[0m\u001b[1;33m.\u001b[0m\u001b[0mSignalSampleVar\u001b[0m\u001b[1;33m,\u001b[0m \u001b[0msignal1\u001b[0m\u001b[1;33m.\u001b[0m\u001b[0mSignalSample\u001b[0m\u001b[1;33m,\u001b[0m \u001b[0mmarker\u001b[0m\u001b[1;33m=\u001b[0m\u001b[1;34m'o'\u001b[0m\u001b[1;33m,\u001b[0m \u001b[0mms\u001b[0m\u001b[1;33m=\u001b[0m\u001b[1;36m0.2\u001b[0m\u001b[1;33m,\u001b[0m \u001b[0mlinestyle\u001b[0m\u001b[1;33m=\u001b[0m\u001b[1;34m'None'\u001b[0m\u001b[1;33m,\u001b[0m \u001b[0mc\u001b[0m\u001b[1;33m=\u001b[0m\u001b[1;34m'darkblue'\u001b[0m\u001b[1;33m)\u001b[0m\u001b[1;33m\u001b[0m\u001b[1;33m\u001b[0m\u001b[0m\n\u001b[0;32m      5\u001b[0m \u001b[0max\u001b[0m\u001b[1;33m.\u001b[0m\u001b[0mplot\u001b[0m\u001b[1;33m(\u001b[0m\u001b[0msignal1\u001b[0m\u001b[1;33m.\u001b[0m\u001b[0mSignalSampleVar\u001b[0m\u001b[1;33m,\u001b[0m \u001b[0msignal1\u001b[0m\u001b[1;33m.\u001b[0m\u001b[0mSignalSample\u001b[0m\u001b[1;33m)\u001b[0m \u001b[1;31m# Which is the ugly image below XD\u001b[0m\u001b[1;33m\u001b[0m\u001b[1;33m\u001b[0m\u001b[0m\n",
      "\u001b[1;31mNameError\u001b[0m: name 'plt' is not defined"
     ]
    }
   ],
   "source": [
    "fig, ax = plt.subplots(figsize=(40,20))\n",
    "\n",
    "plt.grid(True)\n",
    "ax.plot(signal1.SignalSampleVar, signal1.SignalSample, marker='o', ms=0.2, linestyle='None', c='darkblue')\n",
    "ax.plot(signal1.SignalSampleVar, signal1.SignalSample) # Which is the ugly image below XD \n",
    "# since it's not one to one corresponding."
   ]
  },
  {
   "cell_type": "code",
   "execution_count": 8,
   "id": "4026a08b",
   "metadata": {},
   "outputs": [
    {
     "ename": "NameError",
     "evalue": "name 'plt' is not defined",
     "output_type": "error",
     "traceback": [
      "\u001b[1;31m---------------------------------------------------------------------------\u001b[0m",
      "\u001b[1;31mNameError\u001b[0m                                 Traceback (most recent call last)",
      "\u001b[1;32m~\\AppData\\Local\\Temp/ipykernel_7736/835384650.py\u001b[0m in \u001b[0;36m<module>\u001b[1;34m\u001b[0m\n\u001b[1;32m----> 1\u001b[1;33m \u001b[0mfig\u001b[0m\u001b[1;33m,\u001b[0m \u001b[0max\u001b[0m \u001b[1;33m=\u001b[0m \u001b[0mplt\u001b[0m\u001b[1;33m.\u001b[0m\u001b[0msubplots\u001b[0m\u001b[1;33m(\u001b[0m\u001b[0mfigsize\u001b[0m\u001b[1;33m=\u001b[0m\u001b[1;33m(\u001b[0m\u001b[1;36m40\u001b[0m\u001b[1;33m,\u001b[0m\u001b[1;36m20\u001b[0m\u001b[1;33m)\u001b[0m\u001b[1;33m)\u001b[0m\u001b[1;33m\u001b[0m\u001b[1;33m\u001b[0m\u001b[0m\n\u001b[0m\u001b[0;32m      2\u001b[0m \u001b[1;33m\u001b[0m\u001b[0m\n\u001b[0;32m      3\u001b[0m \u001b[0mplt\u001b[0m\u001b[1;33m.\u001b[0m\u001b[0mgrid\u001b[0m\u001b[1;33m(\u001b[0m\u001b[1;32mTrue\u001b[0m\u001b[1;33m)\u001b[0m\u001b[1;33m\u001b[0m\u001b[1;33m\u001b[0m\u001b[0m\n\u001b[0;32m      4\u001b[0m \u001b[0max\u001b[0m\u001b[1;33m.\u001b[0m\u001b[0mplot\u001b[0m\u001b[1;33m(\u001b[0m\u001b[0msignal2\u001b[0m\u001b[1;33m.\u001b[0m\u001b[0mSignalSampleVar\u001b[0m\u001b[1;33m,\u001b[0m \u001b[0msignal2\u001b[0m\u001b[1;33m.\u001b[0m\u001b[0mSignalSample\u001b[0m\u001b[1;33m,\u001b[0m \u001b[0mmarker\u001b[0m\u001b[1;33m=\u001b[0m\u001b[1;34m'o'\u001b[0m\u001b[1;33m,\u001b[0m \u001b[0mms\u001b[0m\u001b[1;33m=\u001b[0m\u001b[1;36m0.2\u001b[0m\u001b[1;33m,\u001b[0m \u001b[0mlinestyle\u001b[0m\u001b[1;33m=\u001b[0m\u001b[1;34m'None'\u001b[0m\u001b[1;33m,\u001b[0m \u001b[0mc\u001b[0m\u001b[1;33m=\u001b[0m\u001b[1;34m'darkblue'\u001b[0m\u001b[1;33m)\u001b[0m\u001b[1;33m\u001b[0m\u001b[1;33m\u001b[0m\u001b[0m\n\u001b[0;32m      5\u001b[0m \u001b[0max\u001b[0m\u001b[1;33m.\u001b[0m\u001b[0mplot\u001b[0m\u001b[1;33m(\u001b[0m\u001b[0msignal2\u001b[0m\u001b[1;33m.\u001b[0m\u001b[0mSignalSampleVar\u001b[0m\u001b[1;33m,\u001b[0m \u001b[0msignal2\u001b[0m\u001b[1;33m.\u001b[0m\u001b[0mSignalSample\u001b[0m\u001b[1;33m)\u001b[0m \u001b[1;31m# Which is the ugly image below XD\u001b[0m\u001b[1;33m\u001b[0m\u001b[1;33m\u001b[0m\u001b[0m\n",
      "\u001b[1;31mNameError\u001b[0m: name 'plt' is not defined"
     ]
    }
   ],
   "source": [
    "fig, ax = plt.subplots(figsize=(40,20))\n",
    "\n",
    "plt.grid(True)\n",
    "ax.plot(signal2.SignalSampleVar, signal2.SignalSample, marker='o', ms=0.2, linestyle='None', c='darkblue')\n",
    "ax.plot(signal2.SignalSampleVar, signal2.SignalSample) # Which is the ugly image below XD \n",
    "# since it's not one to one corresponding."
   ]
  },
  {
   "cell_type": "markdown",
   "id": "2d4135d2",
   "metadata": {},
   "source": [
    "### Example 3 | Making an Audio out of our Sample\n",
    "You can also make an actual audio out of the sample we just made, this would also help us when we are working with some noise canceling problems or just to have a view on the signal we are making."
   ]
  },
  {
   "cell_type": "code",
   "execution_count": 11,
   "id": "225005b0",
   "metadata": {},
   "outputs": [
    {
     "ename": "NameError",
     "evalue": "name 'signal1' is not defined",
     "output_type": "error",
     "traceback": [
      "\u001b[1;31m---------------------------------------------------------------------------\u001b[0m",
      "\u001b[1;31mNameError\u001b[0m                                 Traceback (most recent call last)",
      "\u001b[1;32m~\\AppData\\Local\\Temp/ipykernel_7736/3816761633.py\u001b[0m in \u001b[0;36m<module>\u001b[1;34m\u001b[0m\n\u001b[1;32m----> 1\u001b[1;33m \u001b[0msignal1\u001b[0m\u001b[1;33m.\u001b[0m\u001b[0mNormalizerInt16\u001b[0m\u001b[1;33m(\u001b[0m\u001b[1;33m)\u001b[0m\u001b[1;33m\u001b[0m\u001b[1;33m\u001b[0m\u001b[0m\n\u001b[0m\u001b[0;32m      2\u001b[0m \u001b[0msignal1\u001b[0m\u001b[1;33m.\u001b[0m\u001b[0mNumericAudioCreator\u001b[0m\u001b[1;33m(\u001b[0m\u001b[1;36m10\u001b[0m\u001b[1;33m,\u001b[0m \u001b[0mFileName\u001b[0m\u001b[1;33m=\u001b[0m\u001b[1;34m'sineWave'\u001b[0m\u001b[1;33m)\u001b[0m \u001b[1;31m# 10 second .wav file is created in the directory.\u001b[0m\u001b[1;33m\u001b[0m\u001b[1;33m\u001b[0m\u001b[0m\n",
      "\u001b[1;31mNameError\u001b[0m: name 'signal1' is not defined"
     ]
    }
   ],
   "source": [
    "signal1.NormalizerInt16() \n",
    "signal1.NumericAudioCreator(10, FileName='sineWave') # 10 second .wav file is created in the directory."
   ]
  },
  {
   "cell_type": "code",
   "execution_count": null,
   "id": "2b36d849",
   "metadata": {},
   "outputs": [],
   "source": [
    "\n",
    "signal2.NormalizerInt16()\n",
    "signal2.NumericAudioCreator(10, FileName='sinecosineWave') # 10 second .wav file is created in the directory."
   ]
  },
  {
   "cell_type": "markdown",
   "id": "32266379",
   "metadata": {},
   "source": [
    "# Processing Signals\n",
    "In this section we have our final file `Processing.py` and it's classes that would help us in different areas depending on what we need to do"
   ]
  },
  {
   "cell_type": "code",
   "execution_count": 12,
   "id": "17a2f3ae",
   "metadata": {},
   "outputs": [],
   "source": [
    "import scipy  as sc\n",
    "import numpy as np\n",
    "import matplotlib as mp\n",
    "import matplotlib.pyplot as plt\n",
    "from scipy.fft import fft, fftfreq, rfft, rfftfreq\n",
    "\n",
    "class SignalProcessing():\n",
    "    def __init__(self):\n",
    "        pass\n",
    "\n",
    "    @staticmethod\n",
    "    def fft(SampleRate, Duration, Signal, key=\"\"):\n",
    "        '''\n",
    "        Easy fft for signals!\n",
    "        '''\n",
    "        assert key in ['both', 'freq', ''], \"key should be in ['both', 'freq', ''].\"\n",
    "        SampleLength = SampleRate * Duration\n",
    "        Amplitudes = fft(Signal)\n",
    "        Frequencies = fftfreq(SampleLength,1/SampleRate)\n",
    "        # Returns\n",
    "        if key == 'both':\n",
    "            return Amplitudes, Frequencies\n",
    "        elif key =='freq':\n",
    "            return Frequencies\n",
    "        elif key =='':\n",
    "            return Amplitudes\n",
    "        else:\n",
    "            pass\n",
    "\n",
    "    @staticmethod\n",
    "    def rfft(SampleRate, Duration, Signal, key=\"\"):\n",
    "        '''\n",
    "        Easy fft for signals!\n",
    "        '''\n",
    "        assert key in ['both', 'freq', ''], \"key should be in ['both', 'freq', ''].\"\n",
    "        SampleLength = SampleRate * Duration\n",
    "        Amplitudes = rfft(Signal)\n",
    "        Frequencies = rfftfreq(SampleLength,1/SampleRate)\n",
    "        # Returns\n",
    "        if key == 'both':\n",
    "            return Amplitudes, Frequencies\n",
    "        elif key =='freq':\n",
    "            return Frequencies\n",
    "        elif key =='':\n",
    "            return Amplitudes\n",
    "        else:\n",
    "            pass"
   ]
  },
  {
   "cell_type": "code",
   "execution_count": 14,
   "id": "434df694",
   "metadata": {},
   "outputs": [
    {
     "ename": "NameError",
     "evalue": "name 'Signal' is not defined",
     "output_type": "error",
     "traceback": [
      "\u001b[1;31m---------------------------------------------------------------------------\u001b[0m",
      "\u001b[1;31mNameError\u001b[0m                                 Traceback (most recent call last)",
      "\u001b[1;32m~\\AppData\\Local\\Temp/ipykernel_7736/2024412926.py\u001b[0m in \u001b[0;36m<module>\u001b[1;34m\u001b[0m\n\u001b[1;32m----> 1\u001b[1;33m \u001b[0msig\u001b[0m \u001b[1;33m=\u001b[0m \u001b[0mSignal\u001b[0m\u001b[1;33m(\u001b[0m\u001b[1;36m44100\u001b[0m\u001b[1;33m,\u001b[0m \u001b[0mNumpy\u001b[0m\u001b[1;33m=\u001b[0m\u001b[1;34m'np.sin(x)'\u001b[0m\u001b[1;33m,\u001b[0m \u001b[0mSymbols\u001b[0m\u001b[1;33m=\u001b[0m\u001b[1;34m'x'\u001b[0m\u001b[1;33m)\u001b[0m\u001b[1;33m\u001b[0m\u001b[1;33m\u001b[0m\u001b[0m\n\u001b[0m\u001b[0;32m      2\u001b[0m \u001b[0msig\u001b[0m\u001b[1;33m.\u001b[0m\u001b[0mSampleMaker\u001b[0m\u001b[1;33m(\u001b[0m\u001b[1;33m[\u001b[0m\u001b[1;36m0\u001b[0m\u001b[1;33m,\u001b[0m\u001b[1;36m3\u001b[0m\u001b[1;33m*\u001b[0m\u001b[0mnp\u001b[0m\u001b[1;33m.\u001b[0m\u001b[0mpi\u001b[0m\u001b[1;33m/\u001b[0m\u001b[1;36m2\u001b[0m\u001b[1;33m]\u001b[0m\u001b[1;33m,\u001b[0m \u001b[1;34m''\u001b[0m\u001b[1;33m,\u001b[0m \u001b[1;36m5\u001b[0m\u001b[1;33m)\u001b[0m \u001b[1;31m# from 0 to 2pi, length 1 second.\u001b[0m\u001b[1;33m\u001b[0m\u001b[1;33m\u001b[0m\u001b[0m\n\u001b[0;32m      3\u001b[0m \u001b[1;33m\u001b[0m\u001b[0m\n\u001b[0;32m      4\u001b[0m \u001b[1;31m# Using our function\u001b[0m\u001b[1;33m\u001b[0m\u001b[1;33m\u001b[0m\u001b[0m\n\u001b[0;32m      5\u001b[0m \u001b[0mampfft\u001b[0m\u001b[1;33m,\u001b[0m \u001b[0mfreqfft\u001b[0m \u001b[1;33m=\u001b[0m \u001b[0mSignalProcessing\u001b[0m\u001b[1;33m.\u001b[0m\u001b[0mfft\u001b[0m\u001b[1;33m(\u001b[0m\u001b[0msig\u001b[0m\u001b[1;33m.\u001b[0m\u001b[0mSampleRate\u001b[0m\u001b[1;33m,\u001b[0m \u001b[1;36m5\u001b[0m\u001b[1;33m,\u001b[0m \u001b[0msig\u001b[0m\u001b[1;33m.\u001b[0m\u001b[0mSignalSample\u001b[0m\u001b[1;33m,\u001b[0m \u001b[0mkey\u001b[0m\u001b[1;33m=\u001b[0m\u001b[1;34m'both'\u001b[0m\u001b[1;33m)\u001b[0m\u001b[1;33m\u001b[0m\u001b[1;33m\u001b[0m\u001b[0m\n",
      "\u001b[1;31mNameError\u001b[0m: name 'Signal' is not defined"
     ]
    }
   ],
   "source": [
    "sig = Signal(44100, Numpy='np.sin(x)', Symbols='x')\n",
    "sig.SampleMaker([0,3*np.pi/2], '', 5) # from 0 to 2pi, length 1 second.\n",
    "\n",
    "# Using our function\n",
    "ampfft, freqfft = SignalProcessing.fft(sig.SampleRate, 5, sig.SignalSample, key='both')\n",
    "\n",
    "# Plotting\n",
    "plt.plot(freqfft, np.abs(ampfft))\n",
    "plt.show()"
   ]
  },
  {
   "cell_type": "markdown",
   "id": "f97d61a3",
   "metadata": {},
   "source": [
    "### Example 1 | simple signals and FFT\n",
    "Let's look at the first static method `fft()`."
   ]
  },
  {
   "cell_type": "code",
   "execution_count": null,
   "id": "87e0eb63",
   "metadata": {},
   "outputs": [],
   "source": [
    "# Example 1.1 | sine signal\n",
    "sig = Signal(44100, Numpy='np.sin(x)', Symbols='x')\n",
    "sig.SampleMaker([0,3*np.pi/2], '', 5) # from 0 to 2pi, length 1 second.\n",
    "\n",
    "# Using our function\n",
    "ampfft, freqfft = SignalProcessing.fft(sig.SampleRate, 5, sig.SignalSample, key='both')\n",
    "\n",
    "# Plotting\n",
    "fig2,ax3 = plt.subplots(figsize=(40,10))\n",
    "ax3.grid(True)\n",
    "ax3.plot(freqfft[0:200], np.abs(ampfft)[0:200])"
   ]
  },
  {
   "cell_type": "code",
   "execution_count": null,
   "id": "77def22d",
   "metadata": {},
   "outputs": [],
   "source": [
    "#Example 1.2 | sine + cosine with different phase signal\n",
    "signal2 = Signal(44100, Numpy='np.sin(a*x)+np.cos(b*x)+np.sin(c*x)+np.cos(d*x)', Symbols='x,a,b,c,d')\n",
    "signal2.SampleMaker([0,3*np.pi], '20,10,7,2', 5)# from 0 to 2pi with a=2,b=3 and for length 1 second.\n",
    "\n",
    "# Using our function\n",
    "ampfft2, freqfft2 = SignalProcessing.fft(signal2.SampleRate, 5, signal2.SignalSample, key='both')\n",
    "\n",
    "#Normalizing amplitude\n",
    "ampfft2 = np.divide(ampfft2,ampfft2.max())\n",
    "# Plotting\n",
    "fig2,ax3 = plt.subplots(figsize=(40,10))\n",
    "ax3.grid(True)\n",
    "ax3.plot(freqfft2[0:200], np.abs(ampfft2)[0:200])\n"
   ]
  },
  {
   "cell_type": "markdown",
   "id": "012fc8e5",
   "metadata": {},
   "source": [
    "### Example 2 | rFFT\n",
    "The frequency spectrum that fft() outputted was reflected about the y-axis so that the negative half was a mirror of the positive half. This symmetry was caused by inputting real numbers (not complex numbers) to the transform.\n",
    "\n",
    "You can use this symmetry to make your Fourier transform faster by computing only half of it. scipy.fft implements this speed hack in the form of rfft().\n"
   ]
  },
  {
   "cell_type": "code",
   "execution_count": null,
   "id": "b00794d2",
   "metadata": {},
   "outputs": [],
   "source": [
    "sig = Signal(44100, Numpy='np.sin(x)', Symbols='x')\n",
    "sig.SampleMaker([0,3*np.pi/2], '', 5) # from 0 to 2pi, length 1 second.\n",
    "\n",
    "# Using our function\n",
    "ampfft, freqfft = SignalProcessing.rfft(sig.SampleRate, 5, sig.SignalSample, key='both')\n",
    "\n",
    "# Plotting\n",
    "fig2,ax3 = plt.subplots(figsize=(40,10))\n",
    "ax3.grid(True)\n",
    "ax3.plot(freqfft[0:200], np.abs(ampfft)[0:200])"
   ]
  },
  {
   "cell_type": "code",
   "execution_count": null,
   "id": "8772079d",
   "metadata": {},
   "outputs": [],
   "source": [
    "#Example 1.2 | sine + cosine with different phase signal\n",
    "signal2 = Signal(44100, Numpy='np.sin(a*x)+np.cos(b*x)+np.sin(c*x)+np.cos(d*x)', Symbols='x,a,b,c,d')\n",
    "signal2.SampleMaker([0,3*np.pi], '20,10,7,2', 5)# from 0 to 2pi with a=2,b=3 and for length 1 second.\n",
    "\n",
    "# Using our function\n",
    "ampfft2, freqfft2 = SignalProcessing.rfft(signal2.SampleRate, 5, signal2.SignalSample, key='both')\n",
    "\n",
    "#Normalizing amplitude\n",
    "ampfft2 = np.divide(ampfft2,ampfft2.max())\n",
    "# Plotting\n",
    "fig2,ax3 = plt.subplots(figsize=(40,10))\n",
    "ax3.grid(True)\n",
    "ax3.plot(freqfft2[0:200], np.abs(ampfft2)[0:200])\n"
   ]
  },
  {
   "cell_type": "markdown",
   "id": "4daf61e6",
   "metadata": {},
   "source": [
    "### Example 3 | A noisy sine wave channel\n",
    "Let's look at a sine wave that has been sent to us using a very noisy channel!"
   ]
  }
 ],
 "metadata": {
  "kernelspec": {
   "display_name": "Python 3 (ipykernel)",
   "language": "python",
   "name": "python3"
  },
  "language_info": {
   "codemirror_mode": {
    "name": "ipython",
    "version": 3
   },
   "file_extension": ".py",
   "mimetype": "text/x-python",
   "name": "python",
   "nbconvert_exporter": "python",
   "pygments_lexer": "ipython3",
   "version": "3.9.7"
  }
 },
 "nbformat": 4,
 "nbformat_minor": 5
}
